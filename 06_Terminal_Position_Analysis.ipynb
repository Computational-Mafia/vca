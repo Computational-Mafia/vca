{
 "cells": [
  {
   "cell_type": "markdown",
   "id": "2dc53837",
   "metadata": {},
   "source": [
    "# Final Position on Wagon\n",
    "Our initial analysis will focus on characterizing variation in the position of players on final wagons as a function of factors like their slot's faction, the current game phase, the number of players required to secure an elimination, etc. Here we hope to demo the main visual constructs that will be featured in other initial analyses."
   ]
  },
  {
   "cell_type": "code",
   "execution_count": null,
   "id": "b3119b67",
   "metadata": {},
   "outputs": [],
   "source": [
    "import seaborn as sns\n",
    "import numpy as np\n",
    "import matplotlib.pyplot as plt\n",
    "import pandas as pd\n",
    "\n",
    "# load votes dataframe\n",
    "votes_df = pd.read_json('data/votes.json')\n",
    "votes_df['null'] = 'Data'\n",
    "null_df = pd.read_pickle('data/null_hypothesis.pkl')\n",
    "null_df['null'] = 'Null Hypothesis'"
   ]
  },
  {
   "cell_type": "markdown",
   "id": "c68fc788",
   "metadata": {},
   "source": [
    "## Initial Formatting\n",
    "We'll pick a subset of the data (terminal votes on elminated players) and create some useful indicator variables."
   ]
  },
  {
   "cell_type": "code",
   "execution_count": null,
   "id": "50baafff",
   "metadata": {
    "lines_to_next_cell": 1
   },
   "outputs": [],
   "source": [
    "combined = pd.concat([votes_df, null_df], ignore_index=True)\n",
    "combined = combined.loc[(combined.terminal > -1) & (combined.target_eliminated==True)]\n",
    "combined = combined.loc[combined.voter_faction != 'OTHER']\n",
    "combined = combined.loc[combined.voted_faction != 'OTHER']\n",
    "combined['votes_to_lim'] = np.floor((combined['total_living'].values/2)+1).astype(np.int64)\n",
    "combined['rem_progression'] = combined['votes_to_lim'] - combined['position']\n",
    "combined['prop_progression'] = np.digitize(combined['position']/combined['votes_to_lim'], np.arange(.1, 1.1, .1))\n",
    "combined['termrem_progression'] = combined['votes_to_lim'] - combined['terminal']\n",
    "combined['termprop_progression'] = np.digitize(combined['terminal']/combined['votes_to_lim'], np.arange(.1, 1.1, .1))\n",
    "combined['voted_mafia'] = combined.voted_faction == 'MAFIA'\n",
    "combined['voter_mafia'] = combined.voter_faction == 'MAFIA'"
   ]
  },
  {
   "cell_type": "markdown",
   "id": "ab81a53e",
   "metadata": {},
   "source": [
    "## General Plotting Function\n",
    "For all these plots, we will plot the null hypothesis with a grey line and error bars reflecting the 2.5% and 97.5% percentiles of our data. A red line will reflect the values in our actual dataset."
   ]
  },
  {
   "cell_type": "code",
   "execution_count": null,
   "id": "7f42f526",
   "metadata": {
    "lines_to_next_cell": 1
   },
   "outputs": [],
   "source": [
    "\n",
    "def true_vs_null_hypothesis(data, positional_xticks=False, **kwargs):\n",
    "\n",
    "    # plotting the true data\n",
    "    ax = plt.gca()\n",
    "    sns.pointplot(data=data.loc[data.null != 'Null Hypothesis'], **kwargs)\n",
    "\n",
    "    # compute error bars the null data\n",
    "    null_subset = data.loc[data.null == 'Null Hypothesis']\n",
    "    sampling_distribution = pd.pivot_table(null_subset, index='iteration', \n",
    "        columns=kwargs['x'], values=kwargs['y'])\n",
    "    means = pd.pivot_table(null_subset, index=iv, values=dv).values.flatten()\n",
    "    upper_error = sampling_distribution.quantile(.80).values\n",
    "    lower_error = sampling_distribution.quantile(.20).values\n",
    "    error = np.asarray(\n",
    "        [[means[i] - lower_error[i], upper_error[i] - means[i]] for i in range(\n",
    "            len(upper_error))]).T\n",
    "    \n",
    "    # plotting the null hypothesis\n",
    "    ax.errorbar(np.arange(len(pd.unique(data[iv]))), means, error, color='gray', label='Null hypothesis')\n",
    "\n",
    "    # adjusting xticklabels for positional analysis if specified\n",
    "    ax.tick_params(labelbottom=True)\n",
    "    if positional_xticks:\n",
    "        xticklabels = []\n",
    "        for i in sorted(pd.unique(data[iv])):\n",
    "            xticklabels.append('E-{}'.format(i))\n",
    "        \n",
    "        ax.set_xticks(np.arange(len(pd.unique(data[iv]))))\n",
    "        ax.set_xticklabels(xticklabels)"
   ]
  },
  {
   "cell_type": "markdown",
   "id": "e714e2c4",
   "metadata": {},
   "source": [
    "## Do mafia disproportionately end phases on hammered wagons?\n",
    "Here we just track the proportion of MAFIA who show up on the wagon in the first place, faceting by the alignment of the voted player."
   ]
  },
  {
   "cell_type": "markdown",
   "id": "d146eb50",
   "metadata": {},
   "source": [
    "### Overall by Phase (Including and Excluding Last Phase)"
   ]
  },
  {
   "cell_type": "code",
   "execution_count": null,
   "id": "1ef5444e",
   "metadata": {},
   "outputs": [],
   "source": [
    "\n",
    "iv = 'phase'\n",
    "dv = 'voter_mafia'\n",
    "\n",
    "for just_last_phase in [False]:\n",
    "    subset = combined.loc[(combined.last_phase==just_last_phase) & (combined.phase < 6)]\n",
    "\n",
    "    sns.set_theme(style=\"darkgrid\")\n",
    "    g = sns.FacetGrid(subset, height=5)\n",
    "    g.map_dataframe(true_vs_null_hypothesis, x=iv, y=dv, ci=False, color='red', dashes=False)\n",
    "    g.set_axis_labels(\"Day\", \"Proportion of Mafia on Hammered Wagon\")\n",
    "    g.set_titles(col_template=\"...When Eliminated Slot is {col_name}\")\n",
    "    g.add_legend()\n",
    "    g.fig.subplots_adjust(top=.9)\n",
    "    if not just_last_phase:\n",
    "        g.fig.suptitle(\"Overall (Days 1-5, Excluding Game-Ending Phases)\")"
   ]
  },
  {
   "cell_type": "markdown",
   "id": "df465fcd",
   "metadata": {},
   "source": [
    "### By Faction and Phase (Including and Excluding Last Phase)"
   ]
  },
  {
   "cell_type": "code",
   "execution_count": null,
   "id": "dac70b53",
   "metadata": {},
   "outputs": [],
   "source": [
    "\n",
    "iv = 'phase'\n",
    "dv = 'voter_mafia'\n",
    "\n",
    "for just_last_phase in [False, True]:\n",
    "    subset = combined.loc[(combined.last_phase==just_last_phase) & (combined.phase < 6)]\n",
    "\n",
    "    sns.set_theme(style=\"darkgrid\")\n",
    "    g = sns.FacetGrid(subset, height=5, col='voted_faction')\n",
    "    g.map_dataframe(true_vs_null_hypothesis, x=iv, y=dv, ci=False, color='red', dashes=False)\n",
    "    g.set_axis_labels(\"Day\", \"Proportion of Mafia on Hammered Wagon\")\n",
    "    g.set_titles(col_template=\"...When Eliminated Slot is {col_name}\")\n",
    "    g.add_legend()\n",
    "    g.fig.subplots_adjust(top=.85)\n",
    "    if just_last_phase:\n",
    "        g.fig.suptitle(\"Days 1-5, Focusing on Final Day of Each Game\")"
   ]
  },
  {
   "cell_type": "markdown",
   "id": "3095cd05",
   "metadata": {},
   "source": [
    "## Do mafia disproportionately positition at particular points on hammered wagons?"
   ]
  },
  {
   "cell_type": "markdown",
   "id": "6e5c81d6",
   "metadata": {},
   "source": [
    "### termrem_progression, overall"
   ]
  },
  {
   "cell_type": "code",
   "execution_count": null,
   "id": "0b2e758b",
   "metadata": {},
   "outputs": [],
   "source": [
    "iv = 'rem_progression'\n",
    "dv = 'voter_mafia'\n",
    "subset = combined.loc[(combined.last_phase==False) & (combined.phase < 6) ]\n",
    "\n",
    "sns.set_theme(style=\"darkgrid\")\n",
    "g = sns.FacetGrid(subset, height=5, col='voted_faction')\n",
    "g.map_dataframe(true_vs_null_hypothesis, x=iv, y=dv, positional_xticks=True, ci=False, color='red', dashes=False)\n",
    "g.set_axis_labels(\"Proximity of Vote Position to Hammer\", \"Proportion of Voters Who Are Mafia\")\n",
    "g.set_titles(col_template=\"...When Eliminated Slot is {col_name}\")\n",
    "g.fig.subplots_adjust(top=.85)\n",
    "g.fig.suptitle(\"Days 1-5, Excluding Game-Ending Phases\")\n",
    "g.add_legend()"
   ]
  },
  {
   "cell_type": "markdown",
   "id": "048c87de",
   "metadata": {},
   "source": [
    "### termrem_progression, D1-2"
   ]
  },
  {
   "cell_type": "code",
   "execution_count": null,
   "id": "2a14a215",
   "metadata": {},
   "outputs": [],
   "source": [
    "iv = 'rem_progression'\n",
    "dv = 'voter_mafia'\n",
    "subset = combined.loc[(combined.last_phase==False) & (combined.phase < 3) ]\n",
    "\n",
    "sns.set_theme(style=\"darkgrid\")\n",
    "g = sns.FacetGrid(subset, height=5, col='voted_faction')\n",
    "g.map_dataframe(true_vs_null_hypothesis, x=iv, y=dv, positional_xticks=True, ci=False, color='red', dashes=False)\n",
    "g.set_axis_labels(\"Proximity of Vote Position to Hammer\", \"Proportion of Voters Who Are Mafia\")\n",
    "g.set_titles(col_template=\"...When Eliminated Slot is {col_name}\")\n",
    "g.fig.subplots_adjust(top=.85)\n",
    "g.fig.suptitle(\"Days 1 & 2, Excluding Game-Ending Phases\")\n",
    "g.add_legend()"
   ]
  },
  {
   "cell_type": "markdown",
   "id": "23dcda44",
   "metadata": {},
   "source": [
    "### termrem_progression, D 3-5"
   ]
  },
  {
   "cell_type": "code",
   "execution_count": null,
   "id": "1c0229c7",
   "metadata": {},
   "outputs": [],
   "source": [
    "iv = 'rem_progression'\n",
    "dv = 'voter_mafia'\n",
    "subset = combined.loc[(combined.last_phase==False) & (combined.phase > 2) & (combined.phase < 6)]\n",
    "\n",
    "sns.set_theme(style=\"darkgrid\")\n",
    "g = sns.FacetGrid(subset, height=5, col='voted_faction')\n",
    "g.map_dataframe(true_vs_null_hypothesis, x=iv, y=dv, positional_xticks=True, ci=False, color='red', dashes=False)\n",
    "g.set_axis_labels(\"Proximity of Vote Position to Hammer\", \"Proportion of Voters Who Are Mafia\")\n",
    "g.set_titles(col_template=\"...When Eliminated Slot is {col_name}\")\n",
    "g.fig.subplots_adjust(top=.85)\n",
    "g.fig.suptitle(\"Days 3 & 4 & 5, Excluding Game-Ending Phases\")\n",
    "g.add_legend()"
   ]
  },
  {
   "cell_type": "markdown",
   "id": "2c00ad47",
   "metadata": {},
   "source": [
    "### entry position, D < 6"
   ]
  },
  {
   "cell_type": "code",
   "execution_count": null,
   "id": "80509bbc",
   "metadata": {},
   "outputs": [],
   "source": [
    "iv = 'position'\n",
    "dv = 'voter_mafia'\n",
    "subset = combined.loc[(combined.last_phase==False) & (combined.phase < 6)]\n",
    "\n",
    "sns.set_theme(style=\"darkgrid\")\n",
    "g = sns.FacetGrid(subset, height=5, col='voted_faction')\n",
    "g.map_dataframe(true_vs_null_hypothesis, x=iv, y=dv, positional_xticks=False, ci=False, color='red', dashes=False)\n",
    "g.set_axis_labels(\"Entry Position to Hammered Wagon\", \"Proportion of Voters Who Are Mafia\")\n",
    "g.set_titles(col_template=\"...When Eliminated Slot is {col_name}\")\n",
    "g.fig.subplots_adjust(top=.85)\n",
    "g.fig.suptitle(\"Days 1-5, Excluding Game-Ending Phases\")\n",
    "g.add_legend()"
   ]
  },
  {
   "cell_type": "markdown",
   "id": "73047f05",
   "metadata": {},
   "source": [
    "### entry position, D 3, 4, 5"
   ]
  },
  {
   "cell_type": "code",
   "execution_count": null,
   "id": "089e3236",
   "metadata": {},
   "outputs": [],
   "source": [
    "iv = 'position'\n",
    "dv = 'voter_mafia'\n",
    "subset = combined.loc[(combined.last_phase==False) & (combined.phase > 2) & (combined.phase < 6)]\n",
    "\n",
    "sns.set_theme(style=\"darkgrid\")\n",
    "g = sns.FacetGrid(subset, height=5, col='voted_faction')\n",
    "g.map_dataframe(true_vs_null_hypothesis, x=iv, y=dv, positional_xticks=False, ci=False, color='red', dashes=False)\n",
    "g.set_axis_labels(\"Entry Position to Hammered Wagon\", \"Proportion of Voters Who Are Mafia\")\n",
    "g.set_titles(col_template=\"...When Eliminated Slot is {col_name}\")\n",
    "g.fig.subplots_adjust(top=.85)\n",
    "g.fig.suptitle(\"Days 3-5, Excluding Game-Ending Phases\")\n",
    "g.add_legend()"
   ]
  },
  {
   "cell_type": "markdown",
   "id": "b3866853",
   "metadata": {},
   "source": [
    "### entry position, D 1, 2"
   ]
  },
  {
   "cell_type": "code",
   "execution_count": null,
   "id": "0b0564d6",
   "metadata": {
    "lines_to_next_cell": 2
   },
   "outputs": [],
   "source": [
    "iv = 'position'\n",
    "dv = 'voter_mafia'\n",
    "subset = combined.loc[(combined.last_phase==False) & (combined.phase <3)]\n",
    "\n",
    "sns.set_theme(style=\"darkgrid\")\n",
    "g = sns.FacetGrid(subset, height=5, col='voted_faction')\n",
    "g.map_dataframe(true_vs_null_hypothesis, x=iv, y=dv, positional_xticks=False, ci=False, color='red', dashes=False)\n",
    "g.set_axis_labels(\"Entry Position to Hammered Wagon\", \"Proportion of Voters Who Are Mafia\")\n",
    "g.set_titles(col_template=\"...When Eliminated Slot is {col_name}\")\n",
    "g.fig.subplots_adjust(top=.85)\n",
    "g.fig.suptitle(\"Days 1-2, Excluding Game-Ending Phases\")\n",
    "g.add_legend()"
   ]
  },
  {
   "cell_type": "markdown",
   "id": "79cecb9b",
   "metadata": {},
   "source": [
    "### percent progression, overall"
   ]
  },
  {
   "cell_type": "code",
   "execution_count": null,
   "id": "d4c99450",
   "metadata": {},
   "outputs": [],
   "source": [
    "iv = 'prop_progression'\n",
    "dv = 'voter_mafia'\n",
    "subset = combined.loc[(combined.last_phase==False) & (combined.phase < 6)]\n",
    "\n",
    "sns.set_theme(style=\"darkgrid\")\n",
    "g = sns.FacetGrid(subset, height=5, col='voted_faction')\n",
    "g.map_dataframe(true_vs_null_hypothesis, x=iv, y=dv, positional_xticks=False, ci=False, color='red', dashes=False)\n",
    "g.set_axis_labels(\"Positional Bin\", \"Proportion of Voters Who Are Mafia\")\n",
    "g.set_titles(col_template=\"...When Eliminated Slot is {col_name}\")\n",
    "g.fig.subplots_adjust(top=.85)\n",
    "g.fig.suptitle(\"Days 1-5, Excluding Game-Ending Phases\")\n",
    "g.add_legend()"
   ]
  },
  {
   "cell_type": "markdown",
   "id": "5232df53",
   "metadata": {},
   "source": [
    "### percent progression, Days 1-2"
   ]
  },
  {
   "cell_type": "code",
   "execution_count": null,
   "id": "9163c8b2",
   "metadata": {},
   "outputs": [],
   "source": [
    "iv = 'prop_progression'\n",
    "dv = 'voter_mafia'\n",
    "subset = combined.loc[(combined.last_phase==False) & (combined.phase < 3)]\n",
    "\n",
    "sns.set_theme(style=\"darkgrid\")\n",
    "g = sns.FacetGrid(subset, height=5, col='voted_faction')\n",
    "g.map_dataframe(true_vs_null_hypothesis, x=iv, y=dv, positional_xticks=False, ci=False, color='red', dashes=False)\n",
    "g.set_axis_labels(\"Positional Bin\", \"Proportion of Voters Who Are Mafia\")\n",
    "g.set_titles(col_template=\"...When Eliminated Slot is {col_name}\")\n",
    "g.fig.subplots_adjust(top=.85)\n",
    "g.fig.suptitle(\"Days 1 & 2, Excluding Game-Ending Phases\")\n",
    "g.add_legend()"
   ]
  },
  {
   "cell_type": "markdown",
   "id": "82f7a0b7",
   "metadata": {},
   "source": [
    "### percent progression, Days 3-5"
   ]
  },
  {
   "cell_type": "code",
   "execution_count": null,
   "id": "0d234785",
   "metadata": {},
   "outputs": [],
   "source": [
    "iv = 'prop_progression'\n",
    "dv = 'voter_mafia'\n",
    "subset = combined.loc[(combined.last_phase==False) & (combined.phase > 2) & (combined.phase < 6)]\n",
    "\n",
    "sns.set_theme(style=\"darkgrid\")\n",
    "g = sns.FacetGrid(subset, height=5, col='voted_faction')\n",
    "g.map_dataframe(true_vs_null_hypothesis, x=iv, y=dv, positional_xticks=False, ci=False, color='red', dashes=False)\n",
    "g.set_axis_labels(\"Positional Bin\", \"Proportion of Voters Who Are Mafia\")\n",
    "g.set_titles(col_template=\"...When Eliminated Slot is {col_name}\")\n",
    "g.fig.subplots_adjust(top=.85)\n",
    "g.fig.suptitle(\"Days 3 & 4 & 5, Excluding Game-Ending Phases\")\n",
    "g.add_legend()"
   ]
  },
  {
   "cell_type": "code",
   "execution_count": null,
   "id": "bc8a3fd7",
   "metadata": {},
   "outputs": [],
   "source": []
  }
 ],
 "metadata": {
  "jupytext": {
   "cell_metadata_filter": "-all",
   "main_language": "python",
   "notebook_metadata_filter": "-all"
  }
 },
 "nbformat": 4,
 "nbformat_minor": 5
}
