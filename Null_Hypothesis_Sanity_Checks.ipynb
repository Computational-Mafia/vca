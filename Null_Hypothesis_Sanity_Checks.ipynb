{
 "cells": [
  {
   "cell_type": "markdown",
   "id": "8972a3c2",
   "metadata": {},
   "source": [
    "# Are We Sure The Null Hypothesis is Properly Specified?\n",
    "Let's do some basic tests of our assumptions about how the null hypothesis specification works:\n",
    "1. That the probability of any given vote being by mafia or on mafia is the same as proportion of mafia slots relevant to the current phase.\n",
    "2. That the probability of mafia appearing on any given position on a wagon is the same as proportion of mafia slots relevant to the current phase.\n",
    "3. That this probability is only distorted in reasonable ways when faceted by voted faction's alliance."
   ]
  },
  {
   "cell_type": "code",
   "execution_count": null,
   "id": "01de76fb",
   "metadata": {},
   "outputs": [],
   "source": [
    "import seaborn as sns\n",
    "import numpy as np\n",
    "import matplotlib.pyplot as plt\n",
    "import pandas as pd\n",
    "\n",
    "# load votes dataframe\n",
    "votes_df = pd.read_json('data/votes.json')\n",
    "null_df = pd.read_pickle('data/null_hypothesis.pkl')"
   ]
  },
  {
   "cell_type": "markdown",
   "id": "a0d6228c",
   "metadata": {},
   "source": [
    "## Initial Formatting\n",
    "We'll pick a subset of the data (terminal votes on elminated players) and create some useful indicator variables."
   ]
  },
  {
   "cell_type": "code",
   "execution_count": null,
   "id": "f99b1c55",
   "metadata": {},
   "outputs": [],
   "source": [
    "df = votes_df.loc[(votes_df.terminal > -1) & (votes_df.target_eliminated==True)]\n",
    "df = df.loc[df.voter_faction != 'OTHER']\n",
    "df = df.loc[df.voted_faction != 'OTHER']\n",
    "df['votes_to_lim'] = np.floor((df['total_living'].values/2)+1).astype(np.int64)\n",
    "df['terminal'] = max(df.terminal.values) - df['terminal']\n",
    "df['position'] = max(df.position.values) - df['position']\n",
    "df['voted_mafia'] = df.voted_faction == 'MAFIA'\n",
    "df['voter_mafia'] = df.voter_faction == 'MAFIA'\n",
    "df['null'] = 'Data'\n",
    "\n",
    "null = null_df.loc[(null_df.terminal > -1) & (null_df.target_eliminated==True)]\n",
    "null = null.loc[null.voter_faction != 'OTHER']\n",
    "null = null.loc[null.voted_faction != 'OTHER']\n",
    "null['votes_to_lim'] = np.floor((null['total_living'].values/2)+1).astype(np.int64)\n",
    "null['terminal'] = max(null.terminal.values) - null['terminal']\n",
    "null['position'] = max(null.position.values) - null['position']\n",
    "null['voted_mafia'] = null.voted_faction == 'MAFIA'\n",
    "null['voter_mafia'] = null.voter_faction == 'MAFIA'\n",
    "null['null'] = 'Null Hypothesis'\n",
    "\n",
    "combined = pd.concat([df, null], ignore_index=True)"
   ]
  },
  {
   "cell_type": "markdown",
   "id": "69d6fa0d",
   "metadata": {},
   "source": [
    "## Are Voter and Voted Likelihoods Static Across Votes?\n",
    "If the null hypothesis is properly specified, then the probability of any given vote being should just be the proportion of TOWN slots around in the phase. We'll pick a single post, measure the rate across all iterations within null_df that the post's voter and voted are labeled MAFIA, and compare that with actual rates.\n",
    "\n",
    "In Mini Normal 1091 (thread 15787), 3 players are mafia and 9 are town. By Day 2, three town are eliminated, so the ratio is 3 to 6. Our null is good if post #14 is labeled MAFIA about 25% of the time, and post #617 is labeled MAFIA about 33%."
   ]
  },
  {
   "cell_type": "code",
   "execution_count": null,
   "id": "7233ba18",
   "metadata": {},
   "outputs": [],
   "source": [
    "\n",
    "for post in [460, 943]:\n",
    "    single = null_df.loc[(null_df.thread==15787) & (null_df.post==post)]\n",
    "    print(post)\n",
    "    print(np.mean(single.voter_faction=='MAFIA'))\n",
    "    print(np.mean(single.voted_faction=='MAFIA'))\n",
    "    print()"
   ]
  },
  {
   "cell_type": "markdown",
   "id": "77410a2c",
   "metadata": {},
   "source": [
    "## That the probability of mafia appearing on any given position on a wagon is on average the same as proportion of mafia slots relevant to the current phase.\n",
    "Let's go a bit further and plot for a specific phase in a specific game the ratio of mafia in each voting position."
   ]
  },
  {
   "cell_type": "code",
   "execution_count": null,
   "id": "f8ae0da5",
   "metadata": {},
   "outputs": [],
   "source": [
    "\n",
    "proportions = [3/12, 3/9, 2/7, 2/6, 1/4]\n",
    "\n",
    "for phase, proportion in enumerate(proportions):\n",
    "    subset = null.loc[(null.phase==phase+1) & (null['thread'] == 15787)]\n",
    "    sns.catplot(data=subset, x='terminal', y='voter_mafia', ci=False, kind='point')\n",
    "    plt.axhline(y=proportion, color='red')\n",
    "    plt.title(str(phase+1))\n",
    "    plt.show()"
   ]
  },
  {
   "cell_type": "markdown",
   "id": "24d313c2",
   "metadata": {},
   "source": [
    "## That this probability is only distorted in reasonable ways when faceted by voted faction's alliance."
   ]
  },
  {
   "cell_type": "code",
   "execution_count": null,
   "id": "61b49c06",
   "metadata": {
    "lines_to_next_cell": 0
   },
   "outputs": [],
   "source": [
    "proportions = [3/12, 3/9, 2/7, 2/6, 1/4]\n",
    "alt_proportions = [2/12, 2/9, 1/7, 1/6, 0/4]\n",
    "\n",
    "for phase, proportion in enumerate(proportions):\n",
    "    subset = null.loc[(null.phase==phase+1) & (null['thread'] == 15787)]\n",
    "    sns.catplot(data=subset, x='terminal', y='voter_mafia', kind='point', hue='voted_mafia')\n",
    "    plt.axhline(y=proportion, color='red')\n",
    "    plt.axhline(y=alt_proportions[phase], color='yellow')\n",
    "    plt.title(str(phase+1))\n",
    "    plt.show()"
   ]
  },
  {
   "cell_type": "code",
   "execution_count": null,
   "id": "ace897b8",
   "metadata": {},
   "outputs": [],
   "source": []
  }
 ],
 "metadata": {
  "jupytext": {
   "cell_metadata_filter": "-all",
   "main_language": "python",
   "notebook_metadata_filter": "-all"
  }
 },
 "nbformat": 4,
 "nbformat_minor": 5
}
