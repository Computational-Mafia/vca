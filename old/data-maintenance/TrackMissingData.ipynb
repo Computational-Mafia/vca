{
 "cells": [
  {
   "cell_type": "markdown",
   "metadata": {
    "pycharm": {
     "is_executing": false,
     "name": "#%% md\n"
    }
   },
   "source": [
    "# Track Missing Data\n",
    "We need a system for efficiently identifying missing data, with our initial population being the set of all completed Mini Normal games. We also want to identify _why_ a data point is missing and, when a data point is incomplete, what is present and what isn't. \n",
    "\n",
    "### What kinds of missing data are there?\n",
    "We can be missing setup/slot information, phase transition information, voting data, and/or thread content. And information can be missing because it hasn't been successfully extracted yet or because it's missing from the forum (e.g. because of a site crash). Also, rather than being present or missing, information can also instead be _inaccurate_ - but solving that problem requires an entirely different approach from that of detecting missing data, so we focus on it elsewhere. And finally, data can be undesirable - either because of a broken game (e.g. modflaking) or other issues that make inclusion in analysis difficult/unreasonable.\n",
    "\n",
    "### How will we manage the prospect of missing data?\n",
    "We'll write a script that collects a list of existing completed game threads and checks our data set for associated data, building a list marking wherever data is missing. From there, we'll maintain this list, including updating it regularly as data collection ensues and new games finish, as well as manually marking instances where data collection is impossible or undesirable."
   ]
  },
  {
   "cell_type": "markdown",
   "metadata": {
    "pycharm": {
     "name": "#%% md\n"
    }
   },
   "source": [
    "## Dependencies"
   ]
  },
  {
   "cell_type": "code",
   "execution_count": 1,
   "metadata": {
    "collapsed": false,
    "jupyter": {
     "outputs_hidden": false
    },
    "pycharm": {
     "is_executing": false,
     "name": "#%%\n"
    }
   },
   "outputs": [],
   "source": [
    "# dependences\n",
    "import requests\n",
    "import csv\n",
    "import string\n",
    "from lxml import html\n",
    "\n",
    "# needed variables\n",
    "no_punctuation = str.maketrans(string.punctuation+string.ascii_letters, ' '*len(string.punctuation+string.ascii_letters))\n",
    "completed_url = 'https://forum.mafiascum.net/viewforum.php?f=53&start={}'\n",
    "\n",
    "with open('../data/archive.txt') as f:\n",
    "    archive = f.read()"
   ]
  },
  {
   "cell_type": "markdown",
   "metadata": {},
   "source": [
    "## Build List of Completed Games and Identify Those Missing from `archive.txt`\n",
    "For now we focus solely on Mini Normals. We probably don't need this cell anymore."
   ]
  },
  {
   "cell_type": "code",
   "execution_count": 2,
   "metadata": {
    "collapsed": false,
    "jupyter": {
     "outputs_hidden": false
    },
    "pycharm": {
     "is_executing": false,
     "name": "#%%\n"
    }
   },
   "outputs": [
    {
     "name": "stdout",
     "output_type": "stream",
     "text": [
      "Number of URLs: 1045\n",
      "Number of URLs Unmatched to String in Archive: 747\n",
      "Number of Games in Archive: 298\n",
      "0 threads unaccounted for!\n",
      "Number of URLs After Excluding Duplicates: 1045\n",
      "\n"
     ]
    }
   ],
   "source": [
    "# start by finding number of threads in subforum\n",
    "base = requests.get(completed_url.format(0)).content\n",
    "topic_count = html.fromstring(base).xpath('//div[@class=\"pagination\"]/text()')[0].strip()\n",
    "topic_count = int(topic_count[:topic_count.find(' ')])\n",
    "\n",
    "# scrape list of game urls and titles across each page of threads\n",
    "game_urls, game_titles = [], []\n",
    "for i in range(0, topic_count, 100):\n",
    "    page = requests.get(completed_url.format(i)).content\n",
    "    \n",
    "    # game titles\n",
    "    titles = html.fromstring(page).xpath(\"//div[@class='forumbg']//dt/a/text()\")\n",
    "    game_titles += [title.strip() for index, title in enumerate(titles) if index % 2 == 0]\n",
    "    \n",
    "    # game urls\n",
    "    urls = html.fromstring(page).xpath(\"//div[@class='forumbg']//dt/a/@href\")\n",
    "    game_urls += [url[1:url.find('&sid')] for index, url in enumerate(urls) if index % 2 == 0]\n",
    "\n",
    "# mark which of these aren't in archive\n",
    "excluded = []\n",
    "for index, url in enumerate(game_urls):\n",
    "    count = archive.count(url[1:] + '\\n')\n",
    "    if count == 0 :\n",
    "        excluded.append(index)\n",
    "    \n",
    "# print counts\n",
    "print('Number of URLs:', len(game_urls))\n",
    "print('Number of URLs Unmatched to String in Archive:', len(excluded))\n",
    "print('Number of Games in Archive:', len(archive.split('\\n\\n\\n')))\n",
    "print('{} threads unaccounted for!'.format(len(game_urls) - len(excluded) - len(archive.split('\\n\\n\\n'))))\n",
    "print('Number of URLs After Excluding Duplicates:', len(list(set(game_urls))))\n",
    "print()"
   ]
  },
  {
   "cell_type": "markdown",
   "metadata": {
    "pycharm": {
     "name": "#%% md\n"
    }
   },
   "source": [
    "## Identify and Count Games Included in transitions.tsv\n",
    "Build a list of `games` in `archive.txt` and extract the `numbers` column from `transitions.tsv`. For each archived `game`, check if its `number` is in `numbers`. If it is, then also check if any entry in the associated row has a question mark and if the last entry is a hyphen. \n",
    "\n",
    "From this, build lists and print counts of each archived game that 1) has a row in `transitions.tsv`, 2) has no ambiguous transition entries in their row, and/or 3) has a definitely finish entry in their row. And any other information that provides context for these counts."
   ]
  },
  {
   "cell_type": "code",
   "execution_count": 3,
   "metadata": {
    "collapsed": false,
    "jupyter": {
     "outputs_hidden": false
    },
    "pycharm": {
     "is_executing": false,
     "name": "#%%\n"
    }
   },
   "outputs": [
    {
     "name": "stdout",
     "output_type": "stream",
     "text": [
      "Uncertainty Detected: 1230 341 ['1230', '482', '618', 'missing', '', '', '', '', '', '', '', '']\n",
      "https://forum.mafiascum.net/viewtopic.php?f=53&t=18920\n",
      "Uncertainty Detected: 1238 337 ['1238', '375', '653', '827', '1062', 'missing', '', '', '', '', '', '']\n",
      "https://forum.mafiascum.net/viewtopic.php?f=53&t=18987\n",
      "2\n"
     ]
    }
   ],
   "source": [
    "# build list of games\n",
    "games = archive.split('\\n\\n\\n')\n",
    "\n",
    "# extract game_numbers column from transitions.tsv\n",
    "transitions, numbers = [], []\n",
    "count = 0\n",
    "with open('../data/transitions.tsv') as f:\n",
    "    for row in csv.reader(f, delimiter='\\t'):\n",
    "        transitions.append(row)\n",
    "        numbers.append(row[0])\n",
    "\n",
    "# check each game\n",
    "for archive_index, game in enumerate(games):\n",
    "    title = game.split('\\n')[1]\n",
    "    number = [i for i in title.translate(no_punctuation).split() if i.isdigit()][0]\n",
    "    url = game.split('\\n')[0]\n",
    "    \n",
    "    # check if its number is in extracted numbers\n",
    "    if numbers.count(number) != 1:\n",
    "        print('Data Not Found:', number, numbers.count(number), title)\n",
    "        count += 1\n",
    "        continue\n",
    "        \n",
    "    # check if an entry has question mark\n",
    "    row_index = numbers.index(number)\n",
    "    row = transitions[row_index]\n",
    "    if '?' in '\\t'.join(row) or 'missing' in '\\t'.join(row).lower():\n",
    "        print('Uncertainty Detected:', number, row_index+1, row)\n",
    "        print(url)\n",
    "        count += 1\n",
    "        continue\n",
    "        \n",
    "    # check if an entry has completeness\n",
    "    if ''.join(row).strip()[-1] != '-':\n",
    "        print('Incompleteness Detected:', number, row_index+1, row)\n",
    "        print(url)\n",
    "        count += 1\n",
    "\n",
    "print(count)"
   ]
  },
  {
   "cell_type": "code",
   "execution_count": null,
   "metadata": {},
   "outputs": [],
   "source": []
  }
 ],
 "metadata": {
  "kernelspec": {
   "display_name": "Python 3 (ipykernel)",
   "language": "python",
   "name": "python3"
  },
  "language_info": {
   "codemirror_mode": {
    "name": "ipython",
    "version": 3
   },
   "file_extension": ".py",
   "mimetype": "text/x-python",
   "name": "python",
   "nbconvert_exporter": "python",
   "pygments_lexer": "ipython3",
   "version": "3.9.1"
  },
  "pycharm": {
   "stem_cell": {
    "cell_type": "raw",
    "metadata": {
     "collapsed": false
    },
    "source": []
   }
  }
 },
 "nbformat": 4,
 "nbformat_minor": 4
}
