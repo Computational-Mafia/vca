{
 "cells": [
  {
   "cell_type": "markdown",
   "id": "3b795837",
   "metadata": {},
   "source": [
    "# Clean `archive.txt`\n",
    "A notebook for systematic fixes to `archive.txt`. Functions should not do anything if fixes are already applied.\n",
    "\n",
    "## Correct Urls\n",
    "A lot of archive urls are flat-out wrong. We have to match them to their correct url for better processing later."
   ]
  },
  {
   "cell_type": "code",
   "execution_count": null,
   "id": "167b9e27",
   "metadata": {},
   "outputs": [],
   "source": [
    "# dependences\n",
    "import requests\n",
    "import string\n",
    "from lxml import html\n",
    "\n",
    "# translator for removing punctuation from arbitrary string\n",
    "no_punctuation = str.maketrans(string.punctuation+string.ascii_letters, ' '*len(string.punctuation+string.ascii_letters))\n",
    "\n",
    "# path for all completed games\n",
    "completed_url = 'https://forum.mafiascum.net/viewforum.php?f=53&start={}'\n",
    "\n",
    "# archive data\n",
    "with open('data/archive.txt') as f:\n",
    "    archive = f.read().split('\\n\\n\\n')"
   ]
  },
  {
   "cell_type": "markdown",
   "id": "d99fba41",
   "metadata": {},
   "source": [
    "#### Scrape Relevant URLs and Titles\n",
    "We start by finding the total number of threads in the subforum so we can guide traversal then collect on each page of the subforum relevant thread URLs (and at the moment, some irrelevant ones)."
   ]
  },
  {
   "cell_type": "code",
   "execution_count": null,
   "id": "e32b8ac0",
   "metadata": {},
   "outputs": [],
   "source": [
    "# start by finding number of threads in subforum\n",
    "base_page = requests.get(completed_url.format(0)).content\n",
    "topic_count = html.fromstring(base_page).xpath('//div[@class=\"pagination\"]/text()')[0].strip()\n",
    "topic_count = int(topic_count[:topic_count.find(' ')])\n",
    "\n",
    "# scrape list of game urls and titles across each page of threads\n",
    "game_urls, game_titles, game_numbers = [], [], []\n",
    "for i in range(0, topic_count, 100):\n",
    "    page = requests.get(completed_url.format(i)).content\n",
    "    \n",
    "    # game titles\n",
    "    titles = html.fromstring(page).xpath(\"//div[@class='forumbg']//dt/a/text()\")\n",
    "    game_titles += [title.strip() for index, title in enumerate(titles) if index % 2 == 0]\n",
    "    \n",
    "    # game numbers\n",
    "    for title in [title.strip() for index, title in enumerate(titles) if index % 2 == 0]:\n",
    "        number = [int(i) for i in title.translate(no_punctuation).split() if i.isdigit()]\n",
    "        game_numbers.append(number[0] if len(number) > 0 else [])\n",
    "    \n",
    "    # game urls\n",
    "    urls = html.fromstring(page).xpath(\"//div[@class='forumbg']//dt/a/@href\")\n",
    "    game_urls += [url[1:url.find('&sid')] for index, url in enumerate(urls) if index % 2 == 0]"
   ]
  },
  {
   "cell_type": "markdown",
   "id": "ce15e009",
   "metadata": {},
   "source": [
    "#### Match Each Archived Game to Scraped URL\n",
    "For each archived `game`, get its `title` and infer its associated `number`. Attempt `index` of that `number` within scraped `game_numbers`. The correct `url` for that game has the same `index` inside `game_urls`."
   ]
  },
  {
   "cell_type": "code",
   "execution_count": null,
   "id": "8e57af7a",
   "metadata": {},
   "outputs": [],
   "source": [
    "for archive_index, game in enumerate(archive):\n",
    "    # collect game title and infer game number from it\n",
    "    game = game.split('\\n')\n",
    "    title = game[1]\n",
    "    number = [int(i) for i in title.translate(no_punctuation).split() if i.isdigit()][0]\n",
    "    \n",
    "    # match and replace fixed url\n",
    "    scrape_index = game_numbers.index(number)\n",
    "    game[0] = \"https://forum.mafiascum.net\" + game_urls[scrape_index]\n",
    "    archive[archive_index] = \"\\n\".join(game)\n",
    "\n",
    "with open('data/archive.txt', 'w') as f:\n",
    "    f.write('\\n\\n\\n'.join(archive))"
   ]
  },
  {
   "cell_type": "code",
   "execution_count": null,
   "id": "92af2ef7",
   "metadata": {},
   "outputs": [],
   "source": []
  }
 ],
 "metadata": {
  "jupytext": {
   "cell_metadata_filter": "-all",
   "main_language": "python",
   "notebook_metadata_filter": "-all"
  }
 },
 "nbformat": 4,
 "nbformat_minor": 5
}
