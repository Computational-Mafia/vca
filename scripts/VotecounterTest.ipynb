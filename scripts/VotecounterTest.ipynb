{
 "cells": [
  {
   "cell_type": "markdown",
   "metadata": {},
   "source": [
    "# VotecounterTest\n",
    "A script for setting up and executing performance tests on votecounters."
   ]
  },
  {
   "cell_type": "markdown",
   "metadata": {},
   "source": [
    "## Dependencies"
   ]
  },
  {
   "cell_type": "code",
   "execution_count": 1,
   "metadata": {
    "pycharm": {
     "is_executing": false
    }
   },
   "outputs": [],
   "source": [
    "import json\n",
    "import time\n",
    "import numpy as np\n",
    "from VoteCount import VoteCount\n",
    "import VoteCounter\n",
    "from tqdm import tqdm\n",
    "\n",
    "# to help generate formatted output representations\n",
    "from IPython.core.display import display, HTML\n",
    "import markdown2 as md\n",
    "\n",
    "def html(markdown_string):\n",
    "    display(HTML(md.markdown(markdown_string)))"
   ]
  },
  {
   "cell_type": "markdown",
   "metadata": {},
   "source": [
    "## Helper Function(s)"
   ]
  },
  {
   "cell_type": "code",
   "execution_count": 2,
   "metadata": {
    "pycharm": {
     "is_executing": false
    }
   },
   "outputs": [],
   "source": [
    "def _relevantGameInfo(game):\n",
    "    link = game[:game.find('\\n')]\n",
    "    number = (link[link.find('&t=')+3:] if link.count('&')==1 \n",
    "                      else link[link.find('&t=')+3:link.rfind('&')])\n",
    "    slots, players, correct = [], [], None\n",
    "    for line in game[game.find('\\nPlayers\\n')+9:].split('\\n'):\n",
    "        line = line.split(', ')\n",
    "        players += line[0].split(' replaced ')\n",
    "        slots.append(line[0].split(' replaced ')) \n",
    "        if (line[2].lower().count('lynched') > 0 and\n",
    "            line[2].lower().count('day 1') > 0):\n",
    "            correct = slots[-1]\n",
    "    return slots, players, correct, number"
   ]
  },
  {
   "cell_type": "markdown",
   "metadata": {},
   "source": [
    "## VotecounterTest"
   ]
  },
  {
   "cell_type": "code",
   "execution_count": null,
   "metadata": {},
   "outputs": [],
   "source": [
    "#parameters\n",
    "archive = '../data/archive.txt'\n",
    "votecounter = VoteCounter\n",
    "start_index = 0\n",
    "end_index = 0\n",
    "\n",
    "# open game archive, separate by game\n",
    "with open(archive, encoding='utf-8') as f:\n",
    "    games = f.read().split('\\n\\n\\n')  \n",
    "    \n",
    "# process votes in each game's posts until a lynch found\n",
    "# then store information about votecounter's performance\n",
    "results, success, t0, total = {}, 0, time.time(), 0\n",
    "end_index = end_index if end_index else len(games)  \n",
    "for game_index, game in enumerate(games[start_index:end_index]):\n",
    "    print()\n",
    "    print('\\n'.join(game.split('\\n')[:2]))\n",
    "    slots, players, correct, number = _relevantGameInfo(game)\n",
    "    #print(slots, players, correct, number)\n",
    "    votecount = VoteCount(slots, meta={'correct': correct})\n",
    "    votecounter = VoteCounter.VoteExtracter(players=players)\n",
    "\n",
    "    # collect gameposts associated with game number\n",
    "    with open('../data/posts/{}.jsonl'.format(number)) as f:\n",
    "        gameposts = [dict(t) for t in {tuple(d.items()) for d in [json.loads(l) for l in f]}]\n",
    "        gameposts = sorted(gameposts, key=lambda x: (int(x['thread']), int(x['number'])))\n",
    "        \n",
    "    tgame = time.time()\n",
    "    for post in gameposts:\n",
    "        # done if voters have made a choice already\n",
    "        if votecount.choice:\n",
    "            break\n",
    "\n",
    "        # ignore posts not made by players\n",
    "        if players.count(post['user']) == 0:\n",
    "            continue\n",
    "\n",
    "        # update votecount for each vote found by votecounter\n",
    "        for voted in votecounter.fromPost(post):\n",
    "            votecount.update(post['user'], voted, post['number'])\n",
    "            if votecount.choice:\n",
    "                success += votecount.choice == correct\n",
    "                break\n",
    "    results[number] = votecount\n",
    "    total += 1\n",
    "    print(game_index + start_index, number, success, total, votecount.choice == correct, time.time()-tgame)\n",
    "    \n",
    "print(success/float(end_index-start_index), time.time()-t0)"
   ]
  },
  {
   "cell_type": "markdown",
   "metadata": {},
   "source": [
    "## Analyze Results"
   ]
  },
  {
   "cell_type": "code",
   "execution_count": null,
   "metadata": {},
   "outputs": [],
   "source": [
    "# parameters\n",
    "game_index = 222\n",
    "postnumber = 432\n",
    "postnumber = str(postnumber)\n",
    "\n",
    "# open game archive, separate by game\n",
    "with open(archive, encoding='utf-8') as f:\n",
    "    games = f.read().split('\\n\\n\\n')  \n",
    "\n",
    "# generate votecounter w/ specified players\n",
    "slots, players, correct, number = _relevantGameInfo(games[game_index])\n",
    "html('# {}'.format(number))\n",
    "print(games[game_index])\n",
    "print()\n",
    "print('Choice:', results[number].choice)\n",
    "print('Correct:', results[number].meta['correct'])\n",
    "votecount = VoteCount(slots, meta={'correct': correct})\n",
    "votecounter = VoteCounter.VoteExtracter(players=players)\n",
    "\n",
    "# collect gameposts associated with game number\n",
    "with open('../data/posts/{}.jsonl'.format(number)) as f:\n",
    "    gameposts = [dict(t) for t in {tuple(d.items()) for d in [json.loads(l) for l in f]}]\n",
    "    gameposts = sorted(gameposts, key=lambda x: (int(x['thread']), int(x['number'])))\n",
    "    \n",
    "# find and display selected post along with votecounter output for it\n",
    "html('# Post {}'.format(postnumber))\n",
    "post = next(item for item in gameposts if item[\"number\"] == postnumber)\n",
    "print('Extracted Votes:', list(votecounter.fromPost(post)))\n",
    "print()\n",
    "print(post)\n",
    "print()\n",
    "display(HTML(post['content']))\n",
    "    \n",
    "# display votecount up to indicated post number\n",
    "html('# Current Votecount (Up to {})'.format(postnumber))\n",
    "for post in gameposts[:int(postnumber)]:\n",
    "    # done if voters have made a choice already\n",
    "    if votecount.choice:\n",
    "        break\n",
    "\n",
    "    # ignore posts not made by players\n",
    "    if players.count(post['user']) == 0:\n",
    "        continue\n",
    "\n",
    "    # update votecount for each vote found by votecounter\n",
    "    for voted in votecounter.fromPost(post):\n",
    "        votecount.update(post['user'], voted, post['number'])\n",
    "        if votecount.choice:\n",
    "            success += votecount.choice == correct\n",
    "            break\n",
    "            \n",
    "current_votecount = votecount.todict()\n",
    "for each in current_votecount:\n",
    "    if current_votecount[each]:\n",
    "        print(each, '-', len(current_votecount[each]))\n",
    "        for voter in current_votecount[each]:\n",
    "            print(voter)\n",
    "        print()\n",
    "\n",
    "# display final votecount\n",
    "html('# Final Votecount')\n",
    "final_votecount = results[number].todict()\n",
    "for each in final_votecount:\n",
    "    if final_votecount[each]:\n",
    "        print(each, '-', len(final_votecount[each]))\n",
    "        for voter in final_votecount[each]:\n",
    "            print(voter)\n",
    "        print()\n",
    "        \n",
    "# display final votelog\n",
    "html('# Vote Log')\n",
    "votelog = results[number].votelog.copy()\n",
    "for index, each in enumerate(votelog):\n",
    "    each = each.split()\n",
    "    each[-1] = '[{}]({})'.format(each[-1], next(item for item in gameposts if item[\"number\"] == each[-1])['pagelink'])\n",
    "    votelog[index] = ' '.join(each)\n",
    "html('  \\n'.join(reversed(votelog)))"
   ]
  },
  {
   "cell_type": "code",
   "execution_count": null,
   "metadata": {},
   "outputs": [],
   "source": [
    "gameposts[:int(postnumber)]"
   ]
  },
  {
   "cell_type": "code",
   "execution_count": null,
   "metadata": {},
   "outputs": [],
   "source": []
  }
 ],
 "metadata": {
  "kernelspec": {
   "display_name": "Python 3",
   "language": "python",
   "name": "python3"
  },
  "language_info": {
   "codemirror_mode": {
    "name": "ipython",
    "version": 3
   },
   "file_extension": ".py",
   "mimetype": "text/x-python",
   "name": "python",
   "nbconvert_exporter": "python",
   "pygments_lexer": "ipython3",
   "version": "3.7.4"
  },
  "pycharm": {
   "stem_cell": {
    "cell_type": "raw",
    "metadata": {
     "collapsed": false
    },
    "source": []
   }
  }
 },
 "nbformat": 4,
 "nbformat_minor": 4
}
