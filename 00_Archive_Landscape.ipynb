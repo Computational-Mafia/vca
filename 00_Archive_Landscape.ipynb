{
 "cells": [
  {
   "cell_type": "markdown",
   "id": "7f3d5689-aac9-482e-b08c-25ef8f5ea613",
   "metadata": {},
   "source": [
    "# Archive Landscape\n",
    "I'm interested in mapping out the landscape of completed games that I can readily or not so readily include in an automated vote count analysis. This information can help "
   ]
  }
 ],
 "metadata": {
  "kernelspec": {
   "display_name": "Python 3 (ipykernel)",
   "language": "python",
   "name": "python3"
  },
  "language_info": {
   "codemirror_mode": {
    "name": "ipython",
    "version": 3
   },
   "file_extension": ".py",
   "mimetype": "text/x-python",
   "name": "python",
   "nbconvert_exporter": "python",
   "pygments_lexer": "ipython3",
   "version": "3.9.1"
  }
 },
 "nbformat": 4,
 "nbformat_minor": 5
}
