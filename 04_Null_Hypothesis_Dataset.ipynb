{
 "cells": [
  {
   "cell_type": "markdown",
   "id": "2b0ed8ff",
   "metadata": {},
   "source": [
    "# Null Hypothesis\n",
    "To help keep track across our analyses of the null hypothesis that there are not factional differences in how people vote, we'll generate a `data/votes_null_hypothesis` that contains 1000 iterations of shuffling within-phase the identities of voters but otherwise preserving their sequences of votes. Derived analyses we might apply to the normal dataset should be just as applicable to the current dataset."
   ]
  },
  {
   "cell_type": "code",
   "execution_count": null,
   "id": "8c984e22",
   "metadata": {},
   "outputs": [],
   "source": [
    "import pandas as pd\n",
    "from tqdm.notebook import trange\n",
    "from helpers.relevantGameInfo import relevantGameInfo\n",
    "from helpers.VoteCount import VoteCount\n",
    "from datetime import datetime\n",
    "import json\n",
    "import random"
   ]
  },
  {
   "cell_type": "code",
   "execution_count": null,
   "id": "5f3c1497",
   "metadata": {},
   "outputs": [],
   "source": [
    "# load votes dataframe\n",
    "votes_df = pd.read_json('data/votes.json')\n",
    "votes_df['iteration'] = 0\n",
    "columns = votes_df.columns.to_list()\n",
    "\n",
    "# range of game days to consider; leave 0 for no limit\n",
    "end_day = 0\n",
    "iteration_total = 1000"
   ]
  },
  {
   "cell_type": "code",
   "execution_count": null,
   "id": "23ab729a",
   "metadata": {},
   "outputs": [],
   "source": [
    "\n",
    "# open game archive, separate by game\n",
    "with open('data/archive.txt', encoding='utf-8') as f:\n",
    "    games = f.read().split('\\n\\n\\n')\n",
    "\n",
    "null_df = []\n",
    "\n",
    "# loop through archived games\n",
    "for game_index in trange(len(games), desc='game loop'):\n",
    "\n",
    "    game = games[game_index]\n",
    "\n",
    "    # extract relevant information about this game\n",
    "    slots, players, fates, lynched, factions, number, game_transitions, moderators, events, doublevoters, lessOneForMislynch = relevantGameInfo(\n",
    "        game, include_factions=True)\n",
    "    \n",
    "    for day in range(1, end_day if end_day else len(game_transitions)):\n",
    "\n",
    "        # considered games should have at least 1 full phase cycle\n",
    "        if len(game_transitions) < day+1:\n",
    "            continue\n",
    "\n",
    "        relevant_slots = [slot for slot_index, slot in enumerate(slots) if fates[slot_index] >= day]\n",
    "        relevant_players = []\n",
    "        for slot in relevant_slots:\n",
    "            relevant_players += slot\n",
    "\n",
    "        shuffling = list(range((len(relevant_slots))))\n",
    "        phase_df = votes_df.loc[(\n",
    "            votes_df.phase==int(day)) & (votes_df.thread==int(number))].to_numpy()\n",
    "        voter = phase_df[:, columns.index('voter')].copy()\n",
    "        voted = phase_df[:, columns.index('voted')].copy()\n",
    "\n",
    "        for iteration in trange(iteration_total, desc='iteration_loop', leave=False):\n",
    "            \n",
    "            # collector for our votes in this phase and iteration\n",
    "            random.shuffle(shuffling)\n",
    "            phase_df[:, columns.index('iteration')] = iteration\n",
    "            \n",
    "            # voter, voted, voter_faction, and voted_faction \n",
    "            # must all be reassigned based shuffle\n",
    "            for slot_index, slot in enumerate(relevant_slots):\n",
    "                for player in slot:\n",
    "                    new_slot = relevant_slots[shuffling[slot_index]][0]\n",
    "                    phase_df[voter==player, columns.index('voter')] = new_slot\n",
    "                    phase_df[voter==player, columns.index('voter_faction')] = factions[str(\n",
    "                        relevant_slots[shuffling[slot_index]])]\n",
    "                    phase_df[voted==player, columns.index('voted')] = new_slot\n",
    "                    phase_df[voted==player, columns.index('voted_faction')] = factions[str(\n",
    "                        relevant_slots[shuffling[slot_index]])]\n",
    "\n",
    "            null_df.append(pd.DataFrame(phase_df, columns=columns))"
   ]
  },
  {
   "cell_type": "code",
   "execution_count": null,
   "id": "506321b1",
   "metadata": {},
   "outputs": [],
   "source": [
    "\n",
    "results_df = pd.concat(null_df, ignore_index=True)\n",
    "results_df.to_pickle('data/null_hypothesis.pkl')"
   ]
  },
  {
   "cell_type": "code",
   "execution_count": null,
   "id": "3b5ef344",
   "metadata": {},
   "outputs": [],
   "source": [
    "#results_df.to_json('data/null_hypothesis.json')\n",
    "#now = datetime.now()"
   ]
  }
 ],
 "metadata": {
  "jupytext": {
   "cell_metadata_filter": "-all",
   "main_language": "python",
   "notebook_metadata_filter": "-all"
  }
 },
 "nbformat": 4,
 "nbformat_minor": 5
}
